{
 "cells": [
  {
   "cell_type": "markdown",
   "metadata": {},
   "source": [
    "# 350. Intersection of Two Arrays II"
   ]
  },
  {
   "cell_type": "markdown",
   "metadata": {},
   "source": [
    "Given two arrays, write a function to compute their intersection.\n",
    "\n",
    "\n",
    "__Example:__\n",
    "\n",
    "Given nums1 = [1, 2, 2, 1], nums2 = [2, 2], return [2, 2].\n",
    "\n",
    "\n",
    "__Note:__\n",
    "\n",
    "Each element in the result should appear as many times as it shows in both arrays.\n",
    "\n",
    "The result can be in any order.\n",
    "\n",
    "\n",
    "__Follow up:__\n",
    "\n",
    "What if the given array is already sorted? How would you optimize your algorithm?\n",
    "\n",
    "What if nums1's size is small compared to nums2's size? Which algorithm is better?\n",
    "\n",
    "What if elements of nums2 are stored on disk, and the memory is limited such that you cannot load all elements into the memory at once?"
   ]
  },
  {
   "cell_type": "markdown",
   "metadata": {},
   "source": [
    "### My Notes:\n",
    "Solution from: https://leetcode.com/discuss/106661/2-lines-in-python\n",
    "\n",
    "1. First, use Counter() to transform __list of numbers (nums1, nums2)__ in to __counts of numbers (c1, c2)__;\n",
    "\n",
    "2. Next, use __&__ operator to find common elements of c1 and c2 (this will not tell you the counts of common elements in both collections, so we still need to use __collection[element]__ to get the counts\n",
    "\n",
    "3. Then, use __min(c1[num], c2[num])__ to get the counts of common elements appearances in both collections\n",
    "\n",
    "4. Use __[num] * min(c1[num], c2[num])__ to return a list, in which each element is a list of one common element __[num]__ repeating __min(c1[num], c2[num])__ times. For example, _[[1,1,1], [2,2], [3], [5,5,5]]_.\n",
    "\n",
    "5. To flatten this list, use a little sytax sugar: \n",
    "\n",
    "    > sum([list of lists], []) \n",
    "\n",
    "    Which is equivalent with \n",
    "\n",
    "    > [list_1] + [list_2] + ... [list_n]"
   ]
  },
  {
   "cell_type": "code",
   "execution_count": 1,
   "metadata": {
    "collapsed": false
   },
   "outputs": [],
   "source": [
    "from collections import Counter\n",
    "class Solution(object):\n",
    "    def intersect(self, nums1, nums2):\n",
    "        \"\"\"\n",
    "        :type nums1: List[int]\n",
    "        :type nums2: List[int]\n",
    "        :rtype: List[int]\n",
    "        \"\"\"\n",
    "        c1, c2 = Counter(nums1), Counter(nums2) \n",
    "        common_num = c1 & c2\n",
    "        return sum([[num] * min(c1[num], c2[num]) for num in common_num], [])"
   ]
  },
  {
   "cell_type": "code",
   "execution_count": 2,
   "metadata": {
    "collapsed": true
   },
   "outputs": [],
   "source": [
    "a = Solution()"
   ]
  },
  {
   "cell_type": "code",
   "execution_count": 3,
   "metadata": {
    "collapsed": false
   },
   "outputs": [
    {
     "data": {
      "text/plain": [
       "[1, 2, 2, 3, 4, 5, 5]"
      ]
     },
     "execution_count": 3,
     "metadata": {},
     "output_type": "execute_result"
    }
   ],
   "source": [
    "l1 = [1,2,2,2,3,4,5,6,5]\n",
    "l2 = [1,2,0,2,3,4,5,5,5]\n",
    "a.intersect(l1, l2)"
   ]
  },
  {
   "cell_type": "markdown",
   "metadata": {},
   "source": [
    "<img src='results/350_result.png'>"
   ]
  }
 ],
 "metadata": {
  "kernelspec": {
   "display_name": "Python 3",
   "language": "python",
   "name": "python3"
  },
  "language_info": {
   "codemirror_mode": {
    "name": "ipython",
    "version": 3
   },
   "file_extension": ".py",
   "mimetype": "text/x-python",
   "name": "python",
   "nbconvert_exporter": "python",
   "pygments_lexer": "ipython3",
   "version": "3.5.1"
  }
 },
 "nbformat": 4,
 "nbformat_minor": 0
}
