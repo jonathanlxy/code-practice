{
 "cells": [
  {
   "cell_type": "markdown",
   "metadata": {},
   "source": [
    "# 168. Excel Sheet Column Title\n",
    "Given a positive integer, return its corresponding column title as appear in an Excel sheet.\n",
    "\n",
    "For example:\n",
    "\n",
    ">    1 -> A\n",
    "\n",
    ">    2 -> B\n",
    "\n",
    ">    3 -> C\n",
    "\n",
    ">    ...\n",
    "\n",
    ">    26 -> Z\n",
    "\n",
    ">    27 -> AA\n",
    "\n",
    ">    28 -> AB "
   ]
  },
  {
   "cell_type": "markdown",
   "metadata": {},
   "source": [
    "### My Notes:\n",
    "\n",
    "This one is suprisingly challanging to me.\n",
    "\n",
    "Traditionally, if a decimal number needs to be transformed into a n-based number, it just needed to be divided by n and use remainder as the new digit.\n",
    "\n",
    "However, this 26-based EXCEL column counting system starts at 1 (A) instead of 0 (Zero); while decimal system starts at 0. Therefore, every digit of EXCEL column representation is inflated by 1 decimal count when transformed by traditional formula above. For example:\n",
    "\n",
    "> 1 = $1 * 26^0$ --> A, Instead of 0 ($0 * 26^0$)\n",
    "\n",
    "> 26 = $26 * 26^0$ --> Z, Instead of A0 ($1 * 26^1 + 0 * 26^0$)\n",
    "\n",
    "> __27 = $1 * 26^1 + 1 * 26^0$ --> AA Instead of A0 ($1 * 26^1 + 0 * 26^0$)__\n",
    "\n",
    "> __28 = $1 * 26^1 + 2 * 26^0$ --> AB Instead of AA ($1 * 26^1 + 1 * 26^0$)__\n",
    "\n",
    "\n",
    "To solve this issue, we need to offset this inflation by manually subtracting the decimal number by 1 __before__ every dividing step (every dividing step calculates one digit of EXCEL title)"
   ]
  },
  {
   "cell_type": "code",
   "execution_count": 1,
   "metadata": {
    "collapsed": true
   },
   "outputs": [],
   "source": [
    "class Solution(object):\n",
    "    def convertToTitle(self, n):\n",
    "        \"\"\"\n",
    "        :type n: int\n",
    "        :rtype: str\n",
    "        \"\"\"\n",
    "        title = ''\n",
    "        A_base = ord('A')\n",
    "        while n:\n",
    "            n, remainder = divmod(n - 1, 26) # divmod(x, y) = (x // y), (x % y)\n",
    "            title = chr(A_base + remainder) + title\n",
    "        return title"
   ]
  },
  {
   "cell_type": "markdown",
   "metadata": {
    "collapsed": true
   },
   "source": [
    "### Test"
   ]
  },
  {
   "cell_type": "code",
   "execution_count": 2,
   "metadata": {
    "collapsed": true
   },
   "outputs": [],
   "source": [
    "a = Solution()"
   ]
  },
  {
   "cell_type": "code",
   "execution_count": 3,
   "metadata": {
    "collapsed": false
   },
   "outputs": [
    {
     "name": "stdout",
     "output_type": "stream",
     "text": [
      "Input: 1, Output: A. Expected: A. Result: True\n",
      "Input: 12, Output: L. Expected: L. Result: True\n",
      "Input: 26, Output: Z. Expected: Z. Result: True\n",
      "Input: 27, Output: AA. Expected: AA. Result: True\n",
      "Input: 52, Output: AZ. Expected: AZ. Result: True\n",
      "Input: 728, Output: AAZ. Expected: AAZ. Result: True\n",
      "Input: 16384, Output: XFD. Expected: XFD. Result: True\n"
     ]
    }
   ],
   "source": [
    "input_list = [1, 12, 26, 27, 52, 728, 16384]\n",
    "output_list = ['A', 'L', 'Z', 'AA', 'AZ', 'AAZ', 'XFD']\n",
    "\n",
    "for i in range(len(input_list)):\n",
    "    output = a.convertToTitle(input_list[i])\n",
    "    print ('Input: {}, Output: {}. Expected: {}. Result: {}'\n",
    "           .format(input_list[i], output, output_list[i], output == output_list[i]))"
   ]
  },
  {
   "cell_type": "markdown",
   "metadata": {},
   "source": [
    "<img src='results/168_result.png'>"
   ]
  }
 ],
 "metadata": {
  "kernelspec": {
   "display_name": "Python 3",
   "language": "python",
   "name": "python3"
  },
  "language_info": {
   "codemirror_mode": {
    "name": "ipython",
    "version": 3
   },
   "file_extension": ".py",
   "mimetype": "text/x-python",
   "name": "python",
   "nbconvert_exporter": "python",
   "pygments_lexer": "ipython3",
   "version": "3.5.1"
  }
 },
 "nbformat": 4,
 "nbformat_minor": 0
}
