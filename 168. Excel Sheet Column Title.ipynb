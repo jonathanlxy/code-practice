{
 "cells": [
  {
   "cell_type": "markdown",
   "metadata": {},
   "source": [
    "# 168. Excel Sheet Column Title\n",
    "Given a positive integer, return its corresponding column title as appear in an Excel sheet.\n",
    "\n",
    "For example:\n",
    "\n",
    ">    1 -> A\n",
    "\n",
    ">    2 -> B\n",
    "\n",
    ">    3 -> C\n",
    "\n",
    ">    ...\n",
    "\n",
    ">    26 -> Z\n",
    "\n",
    ">    27 -> AA\n",
    "\n",
    ">    28 -> AB "
   ]
  },
  {
   "cell_type": "code",
   "execution_count": 60,
   "metadata": {
    "collapsed": true
   },
   "outputs": [],
   "source": [
    "import string\n",
    "class Solution(object):\n",
    "    def convertToTitle(self, n):\n",
    "        \"\"\"\n",
    "        :type n: int\n",
    "        :rtype: str\n",
    "        \"\"\"\n",
    "        # Last digit\n",
    "        res = ''\n",
    "        base = ord('A')\n",
    "        while n:\n",
    "            n, r = divmod(n-1, 26)\n",
    "            res = '{}{}'.format(chr(base + r), res)\n",
    "        return res"
   ]
  },
  {
   "cell_type": "code",
   "execution_count": 63,
   "metadata": {
    "collapsed": true
   },
   "outputs": [],
   "source": [
    "import string\n",
    "class Solution(object):\n",
    "    def convertToTitle(self, n):\n",
    "        \"\"\"\n",
    "        :type n: int\n",
    "        :rtype: str\n",
    "        \"\"\"\n",
    "        convert_string = ''\n",
    "        A_base = ord('A')\n",
    "        quotient = n\n",
    "        while quotient:\n",
    "            quotient, remainder = divmod(quotient-1, 26)\n",
    "            convert_string = '{}{}'.format(chr(A_base + remainder), convert_string)\n",
    "        return convert_string"
   ]
  },
  {
   "cell_type": "code",
   "execution_count": 64,
   "metadata": {
    "collapsed": true
   },
   "outputs": [],
   "source": [
    "a = Solution()"
   ]
  },
  {
   "cell_type": "code",
   "execution_count": 65,
   "metadata": {
    "collapsed": false
   },
   "outputs": [
    {
     "name": "stdout",
     "output_type": "stream",
     "text": [
      "Input: 1, Output: A. Expected: A. Result: True\n",
      "Input: 12, Output: L. Expected: L. Result: True\n",
      "Input: 26, Output: Z. Expected: Z. Result: True\n",
      "Input: 27, Output: AA. Expected: AA. Result: True\n",
      "Input: 52, Output: AZ. Expected: AZ. Result: True\n",
      "Input: 728, Output: AAZ. Expected: AAZ. Result: True\n",
      "Input: 16384, Output: XFD. Expected: XFD. Result: True\n"
     ]
    }
   ],
   "source": [
    "print ('Input: %i, Output: %s. Expected: %s. Result: %s' %(1, a.convertToTitle(1), 'A', a.convertToTitle(1) == 'A'))\n",
    "print ('Input: %i, Output: %s. Expected: %s. Result: %s' %(12, a.convertToTitle(12), 'L', a.convertToTitle(12) == 'L'))\n",
    "print ('Input: %i, Output: %s. Expected: %s. Result: %s' %(26, a.convertToTitle(26), 'Z', a.convertToTitle(26) == 'Z'))\n",
    "print ('Input: %i, Output: %s. Expected: %s. Result: %s' %(27, a.convertToTitle(27), 'AA', a.convertToTitle(27) == 'AA'))\n",
    "print ('Input: %i, Output: %s. Expected: %s. Result: %s' %(52, a.convertToTitle(52), 'AZ', a.convertToTitle(52) == 'AZ'))\n",
    "print ('Input: %i, Output: %s. Expected: %s. Result: %s' %(728, a.convertToTitle(728), 'AAZ', a.convertToTitle(728) == 'AAZ'))\n",
    "print ('Input: %i, Output: %s. Expected: %s. Result: %s' %(16384, a.convertToTitle(16384), 'XFD', a.convertToTitle(16384) == 'XFD'))"
   ]
  },
  {
   "cell_type": "code",
   "execution_count": 3,
   "metadata": {
    "collapsed": false
   },
   "outputs": [
    {
     "data": {
      "text/plain": [
       "1"
      ]
     },
     "execution_count": 3,
     "metadata": {},
     "output_type": "execute_result"
    }
   ],
   "source": [
    "1 % 26"
   ]
  },
  {
   "cell_type": "code",
   "execution_count": 7,
   "metadata": {
    "collapsed": false
   },
   "outputs": [
    {
     "data": {
      "text/plain": [
       "1406"
      ]
     },
     "execution_count": 7,
     "metadata": {},
     "output_type": "execute_result"
    }
   ],
   "source": [
    "2 * 26 + 2 * 26**2 + 2"
   ]
  },
  {
   "cell_type": "code",
   "execution_count": 17,
   "metadata": {
    "collapsed": false
   },
   "outputs": [
    {
     "name": "stdout",
     "output_type": "stream",
     "text": [
      "Help on built-in function divmod in module builtins:\n",
      "\n",
      "divmod(x, y, /)\n",
      "    Return the tuple ((x-x%y)/y, x%y).  Invariant: div*y + mod == x.\n",
      "\n"
     ]
    }
   ],
   "source": [
    "help(divmod)"
   ]
  },
  {
   "cell_type": "code",
   "execution_count": null,
   "metadata": {
    "collapsed": true
   },
   "outputs": [],
   "source": [
    "divmod()"
   ]
  }
 ],
 "metadata": {
  "kernelspec": {
   "display_name": "Python 3",
   "language": "python",
   "name": "python3"
  },
  "language_info": {
   "codemirror_mode": {
    "name": "ipython",
    "version": 3
   },
   "file_extension": ".py",
   "mimetype": "text/x-python",
   "name": "python",
   "nbconvert_exporter": "python",
   "pygments_lexer": "ipython3",
   "version": "3.5.1"
  }
 },
 "nbformat": 4,
 "nbformat_minor": 0
}
