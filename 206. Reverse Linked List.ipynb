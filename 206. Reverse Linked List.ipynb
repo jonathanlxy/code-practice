{
 "cells": [
  {
   "cell_type": "markdown",
   "metadata": {},
   "source": [
    "# 206. Reverse Linked List\n",
    "Reverse a singly linked list.\n",
    "\n",
    "__Hint:__\n",
    "\n",
    "A linked list can be reversed either iteratively or recursively. Could you implement both?"
   ]
  },
  {
   "cell_type": "markdown",
   "metadata": {
    "slideshow": {
     "slide_type": "notes"
    }
   },
   "source": [
    "### My Notes\n",
    "While working on this soluition I had learnt a very important feature about class:\n",
    "\n",
    "If line 20 and line 23 were swapped, this function will be broken. __Why?__\n",
    "\n",
    "Because when __current_node__ was defined as __current_node = next_node__, those two variables are referencing the same object!\n",
    "\n",
    "> <font color='red'>__Input:__</font> \\> current_node is next_node \n",
    "\n",
    "> <font color='blue'>__Output:__</font> \\> True\n",
    "\n",
    "Now, let's call this object that both variables are referencing as <font color='green'>__la_object__</font>. Assuming line 23 is excecuted immediately after line 19, it means: \n",
    "\n",
    "> Change the value of <font color='green'>__la_object__</font>'s attribute __next__ to __reversed_list__ \n",
    "\n",
    "Thus, both __current_node__ and __next_node__ will be changed.\n",
    "\n",
    "However, if __next_node__ been redefined before modifying <font color='green'>__la_object__</font>, the synchronism between __next_node__ and __current_node__ will be eliminated and they will become two independent variables.\n",
    "\n",
    "___Lesson learnt.___"
   ]
  },
  {
   "cell_type": "code",
   "execution_count": 1,
   "metadata": {
    "collapsed": true,
    "slideshow": {
     "slide_type": "-"
    }
   },
   "outputs": [],
   "source": [
    "# Definition for singly-linked list.\n",
    "# class ListNode(object):\n",
    "#     def __init__(self, x):\n",
    "#         self.val = x\n",
    "#         self.next = None\n",
    "\n",
    "class Solution(object):\n",
    "    def reverseList(self, head):\n",
    "        \"\"\"\n",
    "        :type head: ListNode\n",
    "        :rtype: ListNode\n",
    "        \"\"\"\n",
    "        # Set initial \n",
    "        next_node = head\n",
    "        reversed_list = None\n",
    "        \n",
    "        while next_node:\n",
    "            # Fetch next node in list\n",
    "            current_node = next_node\n",
    "            next_node = next_node.next\n",
    "            \n",
    "            # Insert current node to the head of reversed list\n",
    "            current_node.next = reversed_list\n",
    "            reversed_list = current_node\n",
    "            \n",
    "        return reversed_list"
   ]
  },
  {
   "cell_type": "markdown",
   "metadata": {},
   "source": [
    "### Test"
   ]
  },
  {
   "cell_type": "code",
   "execution_count": 2,
   "metadata": {
    "collapsed": true
   },
   "outputs": [],
   "source": [
    "class ListNode(object):\n",
    "    def __init__(self, x):\n",
    "        self.val = x\n",
    "        self.next = None"
   ]
  },
  {
   "cell_type": "code",
   "execution_count": 3,
   "metadata": {
    "collapsed": true
   },
   "outputs": [],
   "source": [
    "l = [ListNode(0)]\n",
    "for num in range(1, 3):\n",
    "    node = ListNode(num)\n",
    "    l.append(node)\n",
    "    l[num - 1].next = l[num]"
   ]
  },
  {
   "cell_type": "code",
   "execution_count": 4,
   "metadata": {
    "collapsed": false
   },
   "outputs": [
    {
     "data": {
      "text/plain": [
       "([0, 1, 2], [1, 2])"
      ]
     },
     "execution_count": 4,
     "metadata": {},
     "output_type": "execute_result"
    }
   ],
   "source": [
    "[node.val for node in l], [node.next.val for node in l[:len(l)-1]]"
   ]
  },
  {
   "cell_type": "code",
   "execution_count": 5,
   "metadata": {
    "collapsed": true
   },
   "outputs": [],
   "source": [
    "a = Solution()"
   ]
  },
  {
   "cell_type": "code",
   "execution_count": 6,
   "metadata": {
    "collapsed": false
   },
   "outputs": [],
   "source": [
    "newNode = a.reverseList(l[0])"
   ]
  },
  {
   "cell_type": "code",
   "execution_count": 7,
   "metadata": {
    "collapsed": false
   },
   "outputs": [
    {
     "data": {
      "text/plain": [
       "(2, 1, 0)"
      ]
     },
     "execution_count": 7,
     "metadata": {},
     "output_type": "execute_result"
    }
   ],
   "source": [
    "newNode.val, newNode.next.val, newNode.next.next.val"
   ]
  },
  {
   "cell_type": "markdown",
   "metadata": {},
   "source": [
    "<img src='results/206_result.png'>"
   ]
  }
 ],
 "metadata": {
  "kernelspec": {
   "display_name": "Python 3",
   "language": "python",
   "name": "python3"
  },
  "language_info": {
   "codemirror_mode": {
    "name": "ipython",
    "version": 3
   },
   "file_extension": ".py",
   "mimetype": "text/x-python",
   "name": "python",
   "nbconvert_exporter": "python",
   "pygments_lexer": "ipython3",
   "version": "3.5.1"
  }
 },
 "nbformat": 4,
 "nbformat_minor": 0
}
